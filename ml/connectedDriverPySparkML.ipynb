{
 "cells": [
  {
   "cell_type": "markdown",
   "metadata": {},
   "source": [
    "# Connected Driver PySpark ML"
   ]
  },
  {
   "cell_type": "markdown",
   "metadata": {},
   "source": [
    "## Create the Spark Context "
   ]
  },
  {
   "cell_type": "code",
   "execution_count": 32,
   "metadata": {},
   "outputs": [],
   "source": [
    "fixedDate = \"2019-02-10\"\n",
    "TABLE = \"/obd/obd_raw_table\"\n",
    "APP_NAME = \"Connected Car ML\"\n",
    "\n",
    "from pyspark import SparkContext\n",
    "from pyspark.sql import SparkSession\n",
    "from pyspark.sql import SQLContext\n",
    "from pyspark.sql.functions import *\n",
    "import numpy as np\n",
    "\n",
    "spark = SparkSession.builder \\\n",
    "    .appName(APP_NAME) \\\n",
    "    .getOrCreate()\n",
    "\n",
    "sc = spark.sparkContext\n",
    "sqlContext = SQLContext(sc)"
   ]
  },
  {
   "cell_type": "markdown",
   "metadata": {},
   "source": [
    "## Import the Data from MapR DB into a Spark DataFrame"
   ]
  },
  {
   "cell_type": "code",
   "execution_count": 33,
   "metadata": {
    "scrolled": true
   },
   "outputs": [
    {
     "name": "stdout",
     "output_type": "stream",
     "text": [
      "root\n",
      " |-- _id: string (nullable = true)\n",
      " |-- altitude: string (nullable = true)\n",
      " |-- ambientAirTemperature: string (nullable = true)\n",
      " |-- engineCoolant: string (nullable = true)\n",
      " |-- fuelRate: string (nullable = true)\n",
      " |-- hrTimeStamp: string (nullable = true)\n",
      " |-- instantFuelEconomy: string (nullable = true)\n",
      " |-- latitude: string (nullable = true)\n",
      " |-- longitude: string (nullable = true)\n",
      " |-- make: string (nullable = true)\n",
      " |-- nhrTimeStamp: string (nullable = true)\n",
      " |-- odometer: string (nullable = true)\n",
      " |-- rpm: string (nullable = true)\n",
      " |-- speed: string (nullable = true)\n",
      " |-- target: string (nullable = true)\n",
      " |-- throttle: string (nullable = true)\n",
      " |-- timeSinceEngineStart: string (nullable = true)\n",
      " |-- totalFuelEconomy: string (nullable = true)\n",
      " |-- vin: string (nullable = true)\n",
      " |-- year: string (nullable = true)\n",
      "\n",
      "Total number of rows: 100000\n"
     ]
    }
   ],
   "source": [
    "df1 = sqlContext.read\\\n",
    "     .format(\"com.mapr.db.spark.sql.DefaultSource\")\\\n",
    "     .option(\"tableName\", TABLE).load()\n",
    "\n",
    "df1.printSchema()\n",
    "print(\"Total number of rows: %d\" % df1.count())"
   ]
  },
  {
   "cell_type": "markdown",
   "metadata": {},
   "source": [
    "## Use matplotlib to explore some of the fields visually. \n",
    "### In the figure below, we are showing number of samples for each VIN"
   ]
  },
  {
   "cell_type": "code",
   "execution_count": 34,
   "metadata": {},
   "outputs": [],
   "source": [
    "from matplotlib import pyplot as plt\n",
    "%matplotlib inline\n",
    "\n",
    "def display_field(field,title,in_df): \n",
    "  responses = in_df.groupBy(field).count().collect()\n",
    "  categories = [i[0] for i in responses]\n",
    "  counts = [i[1] for i in responses]\n",
    " \n",
    "  ind = np.array(range(len(categories)))\n",
    "  width = 0.35\n",
    "  plt.bar(ind, counts, width=width, color='r')\n",
    " \n",
    "  plt.ylabel('counts')\n",
    "  plt.title(title)\n",
    "  plt.xticks(ind + width/2., categories)"
   ]
  },
  {
   "cell_type": "code",
   "execution_count": 35,
   "metadata": {},
   "outputs": [
    {
     "data": {
      "image/png": "[encoded data removed]",
      "text/plain": [
       "<Figure size 432x288 with 1 Axes>"
      ]
     },
     "metadata": {
      "needs_background": "light"
     },
     "output_type": "display_data"
    }
   ],
   "source": [
    "display_field('vin','Distribution by vin', df1)"
   ]
  },
  {
   "cell_type": "markdown",
   "metadata": {},
   "source": [
    "# Feature Engineering"
   ]
  },
  {
   "cell_type": "markdown",
   "metadata": {},
   "source": [
    "## Select Unique VIN / Date Combination\n",
    "## Compute Correlation between Engine RPM and Engine Coolant Temperature"
   ]
  },
  {
   "cell_type": "code",
   "execution_count": 36,
   "metadata": {},
   "outputs": [
    {
     "name": "stdout",
     "output_type": "stream",
     "text": [
      "+-----------------+----------+--------------------+\n",
      "|              vin|      date|                   r|\n",
      "+-----------------+----------+--------------------+\n",
      "|KMHKAHMX8J8000001|2019-01-25|  0.6204097635773742|\n",
      "|TMAPAU5A5JE000010|2019-01-25| 0.48055876777686585|\n",
      "|KMHKV17UXJW000011|2019-01-25|   0.601338201299891|\n",
      "|TMAHR6BH2JR000002|2019-01-26| 0.49394325755957413|\n",
      "|TMAHM5EJ0JB000015|2019-01-27| 0.36300056368682115|\n",
      "|9BHC6F6Z2JM000013|2019-01-27|  0.6630305389517865|\n",
      "|2HMH87FM5JJ000014|2019-01-27| 0.30053764251227544|\n",
      "|KMHFJDM99JU000012|2019-01-27|  0.6684184271832342|\n",
      "|2HML79P87JY000016|2019-01-28|  0.5686025464232229|\n",
      "|2HMDJJFB2JJ000017|2019-01-28|   0.620687338166419|\n",
      "|2HMPNRBF2JB000019|2019-01-28|  0.6705417140987361|\n",
      "|TMAKC7N27JT000018|2019-01-28|  0.7182310247380524|\n",
      "|TMAL9T6BXJD000003|2019-01-28|  0.6661904589394555|\n",
      "|2HMHM3T8XJP000020|2019-01-29|  0.6719088048375752|\n",
      "|TMAFMR6Y5JK000022|2019-01-29|-0.09080050995681153|\n",
      "|9BHH1X2XXJR000021|2019-01-29|-0.20827343367849155|\n",
      "|2HMD8CFW9J2000004|2019-01-29|   0.616269109190217|\n",
      "|2HMD5VBY3JV000025|2019-01-30| -0.2631001564224969|\n",
      "|9BHDJ3XW4J1000005|2019-01-30|  0.6239889686102439|\n",
      "|KMHD5ML6XJ4000023|2019-01-30| 0.26686626979718653|\n",
      "|9BHFV7L82J5000024|2019-01-30|-0.13589445663946992|\n",
      "|9BHCU3KB0JG000006|2019-01-30|  0.5119191048196033|\n",
      "|9BHHZT2T2J7000007|2019-01-31|  0.7288418308191142|\n",
      "|TMAHHRMC6JZ000008|2019-01-31|  0.6880181104694747|\n",
      "|2HMB8G5J3JZ000009|2019-02-01|  0.6401804947869251|\n",
      "|KMHKAHMX8J8000001|2019-02-02| 0.14094005032076984|\n",
      "|TMAL9T6BXJD000003|2019-02-03|-0.18852756207533736|\n",
      "|9BHDJ3XW4J1000005|2019-02-03|-0.11115016781381373|\n",
      "|TMAHR6BH2JR000002|2019-02-03|-0.01809984567092...|\n",
      "|2HMD8CFW9J2000004|2019-02-03|-0.30280997468427145|\n",
      "|TMAPAU5A5JE000010|2019-02-04|  0.6223748910098125|\n",
      "|9BHHZT2T2J7000007|2019-02-04|  0.7292679969712536|\n",
      "|2HMB8G5J3JZ000009|2019-02-04|  0.5134027879929708|\n",
      "|TMAHHRMC6JZ000008|2019-02-04|  0.6293820668603652|\n",
      "|9BHCU3KB0JG000006|2019-02-04|  0.6338283329490673|\n",
      "|KMHKV17UXJW000011|2019-02-05|  0.5885507975784484|\n",
      "|KMHFJDM99JU000012|2019-02-06|  0.4199019550783692|\n",
      "|2HMH87FM5JJ000014|2019-02-06|  0.7257597342411793|\n",
      "|9BHC6F6Z2JM000013|2019-02-06|  0.7458871147872634|\n",
      "|TMAHM5EJ0JB000015|2019-02-07|  0.6767543406113121|\n",
      "|TMAKC7N27JT000018|2019-02-07|  0.6129384165785693|\n",
      "|2HML79P87JY000016|2019-02-07|   0.609313813417521|\n",
      "|2HMDJJFB2JJ000017|2019-02-07|  0.7112960693885795|\n",
      "|TMAFMR6Y5JK000022|2019-02-08|   0.498739127754267|\n",
      "|9BHH1X2XXJR000021|2019-02-08|  0.6686920464637846|\n",
      "|2HMPNRBF2JB000019|2019-02-08|  0.4253093548908998|\n",
      "|2HMHM3T8XJP000020|2019-02-08|  0.6230629646808952|\n",
      "|KMHD5ML6XJ4000023|2019-02-08|  0.7028739766516077|\n",
      "|2HMDJJFB2JJ000017|2019-02-10|-0.15570655417680315|\n",
      "|2HMDJJFB2JJ000017|2019-02-11|-0.15224306384055955|\n",
      "|TMAHR6BH2JR000002|2019-02-11|  0.6295825105901686|\n",
      "|TMAL9T6BXJD000003|2019-02-11|    0.64309259432198|\n",
      "|KMHKV17UXJW000011|2019-02-11|  0.3343484856375563|\n",
      "|9BHFV7L82J5000024|2019-02-11|  0.5126628397521734|\n",
      "|KMHFJDM99JU000012|2019-02-11| 0.36190413715711234|\n",
      "|2HMD5VBY3JV000025|2019-02-11|  0.6267764952832094|\n",
      "|TMAKC7N27JT000018|2019-02-11|  0.5591393670913315|\n",
      "|2HMHM3T8XJP000020|2019-02-11|  0.7505154788732151|\n",
      "|2HMD8CFW9J2000004|2019-02-11|  0.5787450848793695|\n",
      "|2HMPNRBF2JB000019|2019-02-11|  0.7445019690192016|\n",
      "|KMHKAHMX8J8000001|2019-02-11|  0.6115917202303365|\n",
      "|TMAHM5EJ0JB000015|2019-02-12|    0.33603375553991|\n",
      "|9BHCU3KB0JG000006|2019-02-12|  0.7496551848201037|\n",
      "|TMAHHRMC6JZ000008|2019-02-12|  0.6766468915348985|\n",
      "|2HML79P87JY000016|2019-02-12| 0.45573677590923173|\n",
      "|2HMDJJFB2JJ000017|2019-02-12|-0.01666701871772516|\n",
      "|9BHH1X2XXJR000021|2019-02-12|  0.7092346403588329|\n",
      "|TMAFMR6Y5JK000022|2019-02-12|  0.5149344687464396|\n",
      "|TMAPAU5A5JE000010|2019-02-12|  0.6330546036408093|\n",
      "|2HMH87FM5JJ000014|2019-02-12| 0.47098955252431296|\n",
      "|9BHHZT2T2J7000007|2019-02-12|    0.73757826664576|\n",
      "|9BHDJ3XW4J1000005|2019-02-12|  0.5752567006129752|\n",
      "|KMHD5ML6XJ4000023|2019-02-13|  0.6013825241373006|\n",
      "|TMAPAU5A5JE000010|2019-02-13|  0.5489766846926822|\n",
      "|2HMDJJFB2JJ000017|2019-02-13|-0.10532168673612795|\n",
      "+-----------------+----------+--------------------+\n",
      "\n"
     ]
    }
   ],
   "source": [
    "df2 = df1.groupby('vin', date_format('hrTimeStamp', 'yyyy-MM-dd').alias('date')).agg(corr(\"rpm\",\"engineCoolant\").alias('r'))\n",
    "df2.orderBy(\"date\").show(df2.count())"
   ]
  },
  {
   "cell_type": "markdown",
   "metadata": {},
   "source": [
    "## Collect Target Events (Past Engine Failures that Required Service)"
   ]
  },
  {
   "cell_type": "code",
   "execution_count": 37,
   "metadata": {
    "scrolled": true
   },
   "outputs": [],
   "source": [
    "df3 = df1.groupby('vin', date_format('hrTimeStamp', 'yyyy-MM-dd').alias('date')).agg({\"target\": \"max\"})"
   ]
  },
  {
   "cell_type": "markdown",
   "metadata": {},
   "source": [
    "## Join DataFrames into Feature Table"
   ]
  },
  {
   "cell_type": "code",
   "execution_count": 38,
   "metadata": {},
   "outputs": [],
   "source": [
    "feature_table = df2.join(df3, [\"vin\", \"date\"]).select('vin', 'date', 'r', col(\"max(target)\").alias(\"engineFailure\"))"
   ]
  },
  {
   "cell_type": "code",
   "execution_count": 39,
   "metadata": {
    "scrolled": true
   },
   "outputs": [
    {
     "name": "stdout",
     "output_type": "stream",
     "text": [
      "root\n",
      " |-- vin: string (nullable = true)\n",
      " |-- date: string (nullable = true)\n",
      " |-- r: double (nullable = true)\n",
      " |-- engineFailure: string (nullable = true)\n",
      "\n",
      "Total number of rows: 75\n",
      "+-----------------+----------+--------------------+-------------+\n",
      "|              vin|      date|                   r|engineFailure|\n",
      "+-----------------+----------+--------------------+-------------+\n",
      "|KMHKAHMX8J8000001|2019-01-25|  0.6204097635773742|            0|\n",
      "|TMAPAU5A5JE000010|2019-01-25| 0.48055876777686585|            0|\n",
      "|KMHKV17UXJW000011|2019-01-25|   0.601338201299891|            0|\n",
      "|TMAHR6BH2JR000002|2019-01-26| 0.49394325755957413|            0|\n",
      "|TMAHM5EJ0JB000015|2019-01-27| 0.36300056368682115|            0|\n",
      "|KMHFJDM99JU000012|2019-01-27|  0.6684184271832342|            0|\n",
      "|2HMH87FM5JJ000014|2019-01-27| 0.30053764251227544|            0|\n",
      "|9BHC6F6Z2JM000013|2019-01-27|  0.6630305389517865|            0|\n",
      "|2HML79P87JY000016|2019-01-28|  0.5686025464232229|            0|\n",
      "|TMAKC7N27JT000018|2019-01-28|  0.7182310247380524|            0|\n",
      "|2HMDJJFB2JJ000017|2019-01-28|   0.620687338166419|            0|\n",
      "|TMAL9T6BXJD000003|2019-01-28|  0.6661904589394555|            0|\n",
      "|2HMPNRBF2JB000019|2019-01-28|  0.6705417140987361|            0|\n",
      "|2HMHM3T8XJP000020|2019-01-29|  0.6719088048375752|            0|\n",
      "|TMAFMR6Y5JK000022|2019-01-29|-0.09080050995681153|            1|\n",
      "|9BHH1X2XXJR000021|2019-01-29|-0.20827343367849155|            1|\n",
      "|2HMD8CFW9J2000004|2019-01-29|   0.616269109190217|            0|\n",
      "|9BHCU3KB0JG000006|2019-01-30|  0.5119191048196033|            0|\n",
      "|2HMD5VBY3JV000025|2019-01-30| -0.2631001564224969|            1|\n",
      "|9BHFV7L82J5000024|2019-01-30|-0.13589445663946992|            1|\n",
      "|KMHD5ML6XJ4000023|2019-01-30| 0.26686626979718653|            1|\n",
      "|9BHDJ3XW4J1000005|2019-01-30|  0.6239889686102439|            0|\n",
      "|9BHHZT2T2J7000007|2019-01-31|  0.7288418308191142|            0|\n",
      "|TMAHHRMC6JZ000008|2019-01-31|  0.6880181104694747|            0|\n",
      "|2HMB8G5J3JZ000009|2019-02-01|  0.6401804947869251|            0|\n",
      "|KMHKAHMX8J8000001|2019-02-02| 0.14094005032076984|            1|\n",
      "|9BHDJ3XW4J1000005|2019-02-03|-0.11115016781381373|            1|\n",
      "|TMAHR6BH2JR000002|2019-02-03|-0.01809984567092...|            1|\n",
      "|2HMD8CFW9J2000004|2019-02-03|-0.30280997468427145|            1|\n",
      "|TMAL9T6BXJD000003|2019-02-03|-0.18852756207533736|            1|\n",
      "|9BHHZT2T2J7000007|2019-02-04|  0.7292679969712536|            0|\n",
      "|2HMB8G5J3JZ000009|2019-02-04|  0.5134027879929708|            0|\n",
      "|TMAHHRMC6JZ000008|2019-02-04|  0.6293820668603652|            0|\n",
      "|TMAPAU5A5JE000010|2019-02-04|  0.6223748910098125|            0|\n",
      "|9BHCU3KB0JG000006|2019-02-04|  0.6338283329490673|            0|\n",
      "|KMHKV17UXJW000011|2019-02-05|  0.5885507975784484|            0|\n",
      "|KMHFJDM99JU000012|2019-02-06|  0.4199019550783692|            0|\n",
      "|9BHC6F6Z2JM000013|2019-02-06|  0.7458871147872634|            0|\n",
      "|2HMH87FM5JJ000014|2019-02-06|  0.7257597342411793|            0|\n",
      "|2HML79P87JY000016|2019-02-07|   0.609313813417521|            0|\n",
      "|2HMDJJFB2JJ000017|2019-02-07|  0.7112960693885795|            0|\n",
      "|TMAKC7N27JT000018|2019-02-07|  0.6129384165785693|            0|\n",
      "|TMAHM5EJ0JB000015|2019-02-07|  0.6767543406113121|            0|\n",
      "|2HMPNRBF2JB000019|2019-02-08|  0.4253093548908998|            0|\n",
      "|9BHH1X2XXJR000021|2019-02-08|  0.6686920464637846|            0|\n",
      "|TMAFMR6Y5JK000022|2019-02-08|   0.498739127754267|            0|\n",
      "|KMHD5ML6XJ4000023|2019-02-08|  0.7028739766516077|            0|\n",
      "|2HMHM3T8XJP000020|2019-02-08|  0.6230629646808952|            0|\n",
      "|2HMDJJFB2JJ000017|2019-02-10|-0.15570655417680315|            1|\n",
      "|KMHKV17UXJW000011|2019-02-11|  0.3343484856375563|            0|\n",
      "|TMAL9T6BXJD000003|2019-02-11|    0.64309259432198|            0|\n",
      "|TMAKC7N27JT000018|2019-02-11|  0.5591393670913315|            0|\n",
      "|2HMPNRBF2JB000019|2019-02-11|  0.7445019690192016|            0|\n",
      "|KMHKAHMX8J8000001|2019-02-11|  0.6115917202303365|            0|\n",
      "|9BHFV7L82J5000024|2019-02-11|  0.5126628397521734|            0|\n",
      "|2HMHM3T8XJP000020|2019-02-11|  0.7505154788732151|            0|\n",
      "|2HMD5VBY3JV000025|2019-02-11|  0.6267764952832094|            0|\n",
      "|2HMDJJFB2JJ000017|2019-02-11|-0.15224306384055955|            1|\n",
      "|KMHFJDM99JU000012|2019-02-11| 0.36190413715711234|            0|\n",
      "|2HMD8CFW9J2000004|2019-02-11|  0.5787450848793695|            0|\n",
      "|TMAHR6BH2JR000002|2019-02-11|  0.6295825105901686|            0|\n",
      "|9BHCU3KB0JG000006|2019-02-12|  0.7496551848201037|            0|\n",
      "|9BHH1X2XXJR000021|2019-02-12|  0.7092346403588329|            0|\n",
      "|TMAFMR6Y5JK000022|2019-02-12|  0.5149344687464396|            0|\n",
      "|2HML79P87JY000016|2019-02-12| 0.45573677590923173|            0|\n",
      "|9BHDJ3XW4J1000005|2019-02-12|  0.5752567006129752|            0|\n",
      "|TMAHM5EJ0JB000015|2019-02-12|    0.33603375553991|            0|\n",
      "|TMAHHRMC6JZ000008|2019-02-12|  0.6766468915348985|            0|\n",
      "|9BHHZT2T2J7000007|2019-02-12|    0.73757826664576|            0|\n",
      "|2HMH87FM5JJ000014|2019-02-12| 0.47098955252431296|            0|\n",
      "|TMAPAU5A5JE000010|2019-02-12|  0.6330546036408093|            0|\n",
      "|2HMDJJFB2JJ000017|2019-02-12|-0.01666701871772516|            1|\n",
      "|KMHD5ML6XJ4000023|2019-02-13|  0.6013825241373006|            0|\n",
      "|2HMDJJFB2JJ000017|2019-02-13|-0.10532168673612795|            1|\n",
      "|TMAPAU5A5JE000010|2019-02-13|  0.5489766846926822|            0|\n",
      "+-----------------+----------+--------------------+-------------+\n",
      "\n"
     ]
    }
   ],
   "source": [
    "feature_table.printSchema()\n",
    "print(\"Total number of rows: %d\" % feature_table.count())\n",
    "feature_table.orderBy(\"date\").show(feature_table.count())"
   ]
  },
  {
   "cell_type": "code",
   "execution_count": 40,
   "metadata": {},
   "outputs": [],
   "source": [
    "feature_table.createOrReplaceTempView(\"feature_table_view\")"
   ]
  },
  {
   "cell_type": "markdown",
   "metadata": {},
   "source": [
    "# Build Model to Predict Engine Failure\n",
    "## The graph below shows that this is an unbalanced classification problem (1=yes)"
   ]
  },
  {
   "cell_type": "code",
   "execution_count": 41,
   "metadata": {},
   "outputs": [
    {
     "data": {
      "image/png": "[encoded data removed]",
      "text/plain": [
       "<Figure size 432x288 with 1 Axes>"
      ]
     },
     "metadata": {
      "needs_background": "light"
     },
     "output_type": "display_data"
    }
   ],
   "source": [
    "display_field('engineFailure','distribution of engineFailure', feature_table)"
   ]
  },
  {
   "cell_type": "markdown",
   "metadata": {},
   "source": [
    "## Import functions needed to prepare data, train model, and visualize results"
   ]
  },
  {
   "cell_type": "code",
   "execution_count": 42,
   "metadata": {},
   "outputs": [],
   "source": [
    "from pyspark.ml import Pipeline\n",
    "from pyspark.ml.classification import RandomForestClassifier as RF\n",
    "from pyspark.ml.classification import LogisticRegression \n",
    "from pyspark.ml.feature import StringIndexer, VectorIndexer, VectorAssembler, SQLTransformer\n",
    "from pyspark.ml.evaluation import MulticlassClassificationEvaluator, BinaryClassificationEvaluator\n",
    "from pyspark.ml.tuning import CrossValidator, ParamGridBuilder"
   ]
  },
  {
   "cell_type": "markdown",
   "metadata": {},
   "source": [
    "## Prepare the data for training the ML Ensemble\n",
    "### select historical, predictive features (e.g. correlation between Engine RPM and Engine Coolant Temperature, etc.)\n",
    "### assign engineFailure as the target"
   ]
  },
  {
   "cell_type": "code",
   "execution_count": 43,
   "metadata": {},
   "outputs": [],
   "source": [
    "myFeatures = ['r']\n",
    "# put data in the format that many Spark ML algorithms require\n",
    "assembler_features = VectorAssembler(inputCols=myFeatures, outputCol='features')\n",
    "labelIndexer = StringIndexer(inputCol='engineFailure', outputCol=\"label\")\n",
    "tmp = [assembler_features, labelIndexer]\n",
    "pipeline = Pipeline(stages=tmp)"
   ]
  },
  {
   "cell_type": "markdown",
   "metadata": {},
   "source": [
    "### Apply pipeline to the data and view result"
   ]
  },
  {
   "cell_type": "code",
   "execution_count": 44,
   "metadata": {},
   "outputs": [
    {
     "name": "stdout",
     "output_type": "stream",
     "text": [
      "+-----+--------------------+\n",
      "|label|            features|\n",
      "+-----+--------------------+\n",
      "|  1.0|[-0.1522430638405...|\n",
      "|  0.0|[0.7496551848201037]|\n",
      "|  0.0|[0.6013825241373006]|\n",
      "|  0.0|[0.7445019690192016]|\n",
      "|  0.0|[0.7112960693885795]|\n",
      "|  0.0|  [0.33603375553991]|\n",
      "|  0.0|[0.7182310247380524]|\n",
      "|  1.0|[-0.1111501678138...|\n",
      "|  0.0|[0.36190413715711...|\n",
      "|  0.0|[0.7288418308191142]|\n",
      "|  0.0|[0.6401804947869251]|\n",
      "|  0.0|[0.5119191048196033]|\n",
      "|  0.0|[0.7292679969712536]|\n",
      "|  1.0|[0.14094005032076...|\n",
      "|  0.0|[0.6230629646808952]|\n",
      "|  0.0|[0.6705417140987361]|\n",
      "|  0.0|[0.6295825105901686]|\n",
      "|  0.0|[0.4199019550783692]|\n",
      "|  0.0|[0.5134027879929708]|\n",
      "|  1.0|[-0.1053216867361...|\n",
      "+-----+--------------------+\n",
      "only showing top 20 rows\n",
      "\n"
     ]
    }
   ],
   "source": [
    "allData = pipeline.fit(feature_table).transform(feature_table.fillna(0))\n",
    "allData.cache() # Create object in memory if possible, if not write to disk\n",
    "allData.select('label','features').show()"
   ]
  },
  {
   "cell_type": "markdown",
   "metadata": {},
   "source": [
    "## Split data into training and testing"
   ]
  },
  {
   "cell_type": "markdown",
   "metadata": {},
   "source": [
    "### Assign Training Data"
   ]
  },
  {
   "cell_type": "code",
   "execution_count": 45,
   "metadata": {},
   "outputs": [
    {
     "name": "stdout",
     "output_type": "stream",
     "text": [
      "Total number of rows: 48\n",
      "Distribution of Pos and Neg in trainingData is:  [Row(label=0.0, count=38), Row(label=1.0, count=10)]\n",
      "+-----------------+----------+--------------------+-------------+--------------------+-----+\n",
      "|              vin|      date|                   r|engineFailure|            features|label|\n",
      "+-----------------+----------+--------------------+-------------+--------------------+-----+\n",
      "|2HMDJJFB2JJ000017|2019-02-07|  0.7112960693885795|            0|[0.7112960693885795]|  0.0|\n",
      "|TMAKC7N27JT000018|2019-01-28|  0.7182310247380524|            0|[0.7182310247380524]|  0.0|\n",
      "|9BHDJ3XW4J1000005|2019-02-03|-0.11115016781381373|            1|[-0.1111501678138...|  1.0|\n",
      "|9BHHZT2T2J7000007|2019-01-31|  0.7288418308191142|            0|[0.7288418308191142]|  0.0|\n",
      "|2HMB8G5J3JZ000009|2019-02-01|  0.6401804947869251|            0|[0.6401804947869251]|  0.0|\n",
      "|9BHCU3KB0JG000006|2019-01-30|  0.5119191048196033|            0|[0.5119191048196033]|  0.0|\n",
      "|9BHHZT2T2J7000007|2019-02-04|  0.7292679969712536|            0|[0.7292679969712536]|  0.0|\n",
      "|KMHKAHMX8J8000001|2019-02-02| 0.14094005032076984|            1|[0.14094005032076...|  1.0|\n",
      "|2HMHM3T8XJP000020|2019-02-08|  0.6230629646808952|            0|[0.6230629646808952]|  0.0|\n",
      "|2HMPNRBF2JB000019|2019-01-28|  0.6705417140987361|            0|[0.6705417140987361]|  0.0|\n",
      "|KMHFJDM99JU000012|2019-02-06|  0.4199019550783692|            0|[0.4199019550783692]|  0.0|\n",
      "|2HMB8G5J3JZ000009|2019-02-04|  0.5134027879929708|            0|[0.5134027879929708]|  0.0|\n",
      "|TMAHM5EJ0JB000015|2019-01-27| 0.36300056368682115|            0|[0.36300056368682...|  0.0|\n",
      "|TMAFMR6Y5JK000022|2019-01-29|-0.09080050995681153|            1|[-0.0908005099568...|  1.0|\n",
      "|9BHH1X2XXJR000021|2019-02-08|  0.6686920464637846|            0|[0.6686920464637846]|  0.0|\n",
      "|TMAHR6BH2JR000002|2019-02-03|-0.01809984567092...|            1|[-0.0180998456709...|  1.0|\n",
      "|TMAHM5EJ0JB000015|2019-02-07|  0.6767543406113121|            0|[0.6767543406113121]|  0.0|\n",
      "|TMAHHRMC6JZ000008|2019-01-31|  0.6880181104694747|            0|[0.6880181104694747]|  0.0|\n",
      "|TMAPAU5A5JE000010|2019-01-25| 0.48055876777686585|            0|[0.48055876777686...|  0.0|\n",
      "|KMHFJDM99JU000012|2019-01-27|  0.6684184271832342|            0|[0.6684184271832342]|  0.0|\n",
      "|9BHC6F6Z2JM000013|2019-01-27|  0.6630305389517865|            0|[0.6630305389517865]|  0.0|\n",
      "|2HML79P87JY000016|2019-02-07|   0.609313813417521|            0| [0.609313813417521]|  0.0|\n",
      "|TMAKC7N27JT000018|2019-02-07|  0.6129384165785693|            0|[0.6129384165785693]|  0.0|\n",
      "|2HML79P87JY000016|2019-01-28|  0.5686025464232229|            0|[0.5686025464232229]|  0.0|\n",
      "|2HMD5VBY3JV000025|2019-01-30| -0.2631001564224969|            1|[-0.2631001564224...|  1.0|\n",
      "|TMAL9T6BXJD000003|2019-02-03|-0.18852756207533736|            1|[-0.1885275620753...|  1.0|\n",
      "|TMAHHRMC6JZ000008|2019-02-04|  0.6293820668603652|            0|[0.6293820668603652]|  0.0|\n",
      "|2HMHM3T8XJP000020|2019-01-29|  0.6719088048375752|            0|[0.6719088048375752]|  0.0|\n",
      "|KMHKV17UXJW000011|2019-02-05|  0.5885507975784484|            0|[0.5885507975784484]|  0.0|\n",
      "|2HMDJJFB2JJ000017|2019-01-28|   0.620687338166419|            0| [0.620687338166419]|  0.0|\n",
      "|KMHKAHMX8J8000001|2019-01-25|  0.6204097635773742|            0|[0.6204097635773742]|  0.0|\n",
      "|TMAHR6BH2JR000002|2019-01-26| 0.49394325755957413|            0|[0.49394325755957...|  0.0|\n",
      "|2HMPNRBF2JB000019|2019-02-08|  0.4253093548908998|            0|[0.4253093548908998]|  0.0|\n",
      "|9BHDJ3XW4J1000005|2019-01-30|  0.6239889686102439|            0|[0.6239889686102439]|  0.0|\n",
      "|9BHFV7L82J5000024|2019-01-30|-0.13589445663946992|            1|[-0.1358944566394...|  1.0|\n",
      "|KMHD5ML6XJ4000023|2019-01-30| 0.26686626979718653|            1|[0.26686626979718...|  1.0|\n",
      "|9BHH1X2XXJR000021|2019-01-29|-0.20827343367849155|            1|[-0.2082734336784...|  1.0|\n",
      "|TMAPAU5A5JE000010|2019-02-04|  0.6223748910098125|            0|[0.6223748910098125]|  0.0|\n",
      "|TMAL9T6BXJD000003|2019-01-28|  0.6661904589394555|            0|[0.6661904589394555]|  0.0|\n",
      "|2HMD8CFW9J2000004|2019-02-03|-0.30280997468427145|            1|[-0.3028099746842...|  1.0|\n",
      "|2HMH87FM5JJ000014|2019-01-27| 0.30053764251227544|            0|[0.30053764251227...|  0.0|\n",
      "|2HMH87FM5JJ000014|2019-02-06|  0.7257597342411793|            0|[0.7257597342411793]|  0.0|\n",
      "|2HMD8CFW9J2000004|2019-01-29|   0.616269109190217|            0| [0.616269109190217]|  0.0|\n",
      "|KMHKV17UXJW000011|2019-01-25|   0.601338201299891|            0| [0.601338201299891]|  0.0|\n",
      "|9BHCU3KB0JG000006|2019-02-04|  0.6338283329490673|            0|[0.6338283329490673]|  0.0|\n",
      "|9BHC6F6Z2JM000013|2019-02-06|  0.7458871147872634|            0|[0.7458871147872634]|  0.0|\n",
      "|TMAFMR6Y5JK000022|2019-02-08|   0.498739127754267|            0| [0.498739127754267]|  0.0|\n",
      "|KMHD5ML6XJ4000023|2019-02-08|  0.7028739766516077|            0|[0.7028739766516077]|  0.0|\n",
      "+-----------------+----------+--------------------+-------------+--------------------+-----+\n",
      "\n"
     ]
    }
   ],
   "source": [
    "#trainingDF = sqlContext.sql('SELECT * FROM feature_table_view WHERE date < CURRENT_DATE')\n",
    "query = \"SELECT * FROM feature_table_view WHERE date < '{}'\".format(fixedDate)\n",
    "trainingDF = sqlContext.sql(query)\n",
    "trainingData = pipeline.fit(trainingDF).transform(trainingDF.fillna(0))\n",
    "trainingData.cache() # Create object in memory if possible, if not write to disk\n",
    "\n",
    "print(\"Total number of rows: %d\" % trainingData.count())\n",
    "print(\"Distribution of Pos and Neg in trainingData is: \", trainingData.groupBy(\"label\").count().take(3))\n",
    "trainingData.show(trainingData.count())"
   ]
  },
  {
   "cell_type": "markdown",
   "metadata": {},
   "source": [
    "### Assign Test Data"
   ]
  },
  {
   "cell_type": "code",
   "execution_count": 46,
   "metadata": {},
   "outputs": [
    {
     "name": "stdout",
     "output_type": "stream",
     "text": [
      "+-----------------+----------+--------------------+-------------+\n",
      "|              vin|      date|                   r|engineFailure|\n",
      "+-----------------+----------+--------------------+-------------+\n",
      "|2HMDJJFB2JJ000017|2019-02-10|-0.15570655417680315|            1|\n",
      "+-----------------+----------+--------------------+-------------+\n",
      "\n"
     ]
    }
   ],
   "source": [
    "#testDF = sqlContext.sql('SELECT * FROM feature_table_view WHERE date = CURRENT_DATE')\n",
    "query = \"SELECT * FROM feature_table_view WHERE date = '{}'\".format(fixedDate)\n",
    "testDF = sqlContext.sql(query)\n",
    "testDF.show(testDF.count())"
   ]
  },
  {
   "cell_type": "code",
   "execution_count": 47,
   "metadata": {},
   "outputs": [
    {
     "name": "stdout",
     "output_type": "stream",
     "text": [
      "Total number of rows: 1\n",
      "Distribution of Pos and Neg in trainingData is:  [Row(label=0.0, count=1)]\n",
      "+-----------------+----------+--------------------+-------------+--------------------+-----+\n",
      "|              vin|      date|                   r|engineFailure|            features|label|\n",
      "+-----------------+----------+--------------------+-------------+--------------------+-----+\n",
      "|2HMDJJFB2JJ000017|2019-02-10|-0.15570655417680315|            1|[-0.1557065541768...|  0.0|\n",
      "+-----------------+----------+--------------------+-------------+--------------------+-----+\n",
      "\n"
     ]
    }
   ],
   "source": [
    "testData = pipeline.fit(testDF).transform(testDF.fillna(0))\n",
    "testData.cache() # Create object in memory if possible, if not write to disk\n",
    "\n",
    "print(\"Total number of rows: %d\" % testData.count())\n",
    "print(\"Distribution of Pos and Neg in trainingData is: \", testData.groupBy(\"label\").count().take(3))\n",
    "testData.show(testData.count())"
   ]
  },
  {
   "cell_type": "markdown",
   "metadata": {},
   "source": [
    "# Train Supervised Learning Models"
   ]
  },
  {
   "cell_type": "markdown",
   "metadata": {},
   "source": [
    "## Random Forest"
   ]
  },
  {
   "cell_type": "code",
   "execution_count": 48,
   "metadata": {},
   "outputs": [],
   "source": [
    "rf = RF(labelCol='label', featuresCol='features', numTrees=200)\n",
    "fitRF = rf.fit(trainingData)"
   ]
  },
  {
   "cell_type": "markdown",
   "metadata": {},
   "source": [
    "### Use Logistic Regression"
   ]
  },
  {
   "cell_type": "code",
   "execution_count": 49,
   "metadata": {},
   "outputs": [],
   "source": [
    "lr = LogisticRegression(maxIter=10, regParam=0.01) \n",
    "fitLR = lr.fit(trainingData)"
   ]
  },
  {
   "cell_type": "markdown",
   "metadata": {},
   "source": [
    "### Use Logistic Coefficients to Interpret the Model"
   ]
  },
  {
   "cell_type": "code",
   "execution_count": 50,
   "metadata": {},
   "outputs": [
    {
     "name": "stdout",
     "output_type": "stream",
     "text": [
      "Intercept: 1.8902516160956322\n",
      "r -9.4865636258225\n"
     ]
    }
   ],
   "source": [
    "print(\"Intercept: \" + str(fitLR.intercept))\n",
    "\n",
    "for i in range(0,len(fitLR.coefficients)):\n",
    "    print(myFeatures[i], fitLR.coefficients[i])"
   ]
  },
  {
   "cell_type": "markdown",
   "metadata": {},
   "source": [
    "# Apply models to the test set"
   ]
  },
  {
   "cell_type": "markdown",
   "metadata": {},
   "source": [
    "## Random Forest"
   ]
  },
  {
   "cell_type": "code",
   "execution_count": 51,
   "metadata": {},
   "outputs": [],
   "source": [
    "transformedRF = fitRF.transform(testData)"
   ]
  },
  {
   "cell_type": "code",
   "execution_count": 52,
   "metadata": {},
   "outputs": [
    {
     "name": "stdout",
     "output_type": "stream",
     "text": [
      "+-----------------+-------------+-----+-----------+----------+\n",
      "|              vin|engineFailure|label|probability|prediction|\n",
      "+-----------------+-------------+-----+-----------+----------+\n",
      "|2HMDJJFB2JJ000017|            1|  0.0|  [0.0,1.0]|       1.0|\n",
      "+-----------------+-------------+-----+-----------+----------+\n",
      "\n"
     ]
    }
   ],
   "source": [
    "transformedRF.select('vin','engineFailure','label','probability','prediction').show()"
   ]
  },
  {
   "cell_type": "markdown",
   "metadata": {},
   "source": [
    "## Logistic Regression"
   ]
  },
  {
   "cell_type": "code",
   "execution_count": 53,
   "metadata": {},
   "outputs": [],
   "source": [
    "transformedLR = fitLR.transform(testData)"
   ]
  },
  {
   "cell_type": "code",
   "execution_count": 54,
   "metadata": {},
   "outputs": [
    {
     "name": "stdout",
     "output_type": "stream",
     "text": [
      "+-----------------+-------------+-----+--------------------+----------+\n",
      "|              vin|engineFailure|label|         probability|prediction|\n",
      "+-----------------+-------------+-----+--------------------+----------+\n",
      "|2HMDJJFB2JJ000017|            1|  0.0|[0.03333088713257...|       1.0|\n",
      "+-----------------+-------------+-----+--------------------+----------+\n",
      "\n"
     ]
    }
   ],
   "source": [
    "transformedLR.select('vin','engineFailure','label','probability','prediction').show()"
   ]
  },
  {
   "cell_type": "markdown",
   "metadata": {},
   "source": [
    "## Calculate the AUC (Area-Under-the-Curve) for each Algorithm\n",
    "### 1.0 is the highest AUC possible (perfect performance)\n",
    "### 0.5 is performance acheived with random choice (worst performance)"
   ]
  },
  {
   "cell_type": "code",
   "execution_count": 55,
   "metadata": {},
   "outputs": [],
   "source": [
    "from pyspark.mllib.evaluation import BinaryClassificationMetrics as metric"
   ]
  },
  {
   "cell_type": "markdown",
   "metadata": {},
   "source": [
    "### Random Forest"
   ]
  },
  {
   "cell_type": "code",
   "execution_count": 56,
   "metadata": {},
   "outputs": [
    {
     "name": "stdout",
     "output_type": "stream",
     "text": [
      "AUC score (RF with 200 trees):  1.0\n"
     ]
    }
   ],
   "source": [
    "resultsRF = transformedRF.select(['probability', 'label'])\n",
    "results_collectRF = resultsRF.collect()\n",
    "results_listRF = [(float(i[0][0]), 1.0-float(i[1])) for i in results_collectRF]\n",
    "scoreAndLabelsRF = sc.parallelize(results_listRF)\n",
    "metricsRF = metric(scoreAndLabelsRF)\n",
    "print(\"AUC score (RF with 200 trees): \", metricsRF.areaUnderROC)"
   ]
  },
  {
   "cell_type": "markdown",
   "metadata": {},
   "source": [
    "### Logistic Regression"
   ]
  },
  {
   "cell_type": "code",
   "execution_count": 57,
   "metadata": {},
   "outputs": [
    {
     "name": "stdout",
     "output_type": "stream",
     "text": [
      "AUC score (Logistic Reg):  1.0\n"
     ]
    }
   ],
   "source": [
    "resultsLR = transformedLR.select(['probability', 'label'])\n",
    "results_collectLR = resultsLR.collect()\n",
    "results_listLR = [(float(i[0][0]), 1.0-float(i[1])) for i in results_collectLR]\n",
    "scoreAndLabelsLR = sc.parallelize(results_listLR)\n",
    "metricsLR = metric(scoreAndLabelsLR)\n",
    "print(\"AUC score (Logistic Reg): \", metricsLR.areaUnderROC)"
   ]
  },
  {
   "cell_type": "markdown",
   "metadata": {},
   "source": [
    "## Plot the ROC (Receiver Operating Characteristic) for Algorithms\n",
    "### y=x line is random performance (AUC=0.5)"
   ]
  },
  {
   "cell_type": "code",
   "execution_count": 58,
   "metadata": {},
   "outputs": [
    {
     "data": {
      "image/png": "[encoded data removed]",
      "text/plain": [
       "<Figure size 432x288 with 1 Axes>"
      ]
     },
     "metadata": {
      "needs_background": "light"
     },
     "output_type": "display_data"
    }
   ],
   "source": [
    "from sklearn.metrics import roc_curve, auc\n",
    " \n",
    "### random forest    \n",
    "fprRF = dict()\n",
    "tprRF = dict()\n",
    "roc_aucRF = dict()\n",
    "y_testRF = [i[1] for i in results_listRF]\n",
    "y_scoreRF = [i[0] for i in results_listRF]\n",
    "fprRF, tprRF, _ = roc_curve(y_testRF, y_scoreRF)\n",
    "roc_aucRF = auc(fprRF, tprRF)\n",
    "\n",
    "### Logistic Regression\n",
    "fprLR = dict()\n",
    "tprLR = dict()\n",
    "roc_aucLR = dict()\n",
    "y_testLR = [i[1] for i in results_listLR]\n",
    "y_scoreLR = [i[0] for i in results_listLR]\n",
    "fprLR, tprLR, _ = roc_curve(y_testLR, y_scoreLR)\n",
    "roc_aucLR = auc(fprLR, tprLR)\n",
    " \n",
    "%matplotlib inline\n",
    "plt.figure()\n",
    "plt.plot(fprRF, tprRF, label='RF ROC (AUC = %0.2f)' % roc_aucRF)\n",
    "plt.plot(fprLR, tprLR, label='LR ROC (AUC = %0.2f)' % roc_aucLR)\n",
    "plt.plot([0, 1], [0, 1], 'k--')\n",
    "plt.xlim([0.0, 1.0])\n",
    "plt.ylim([0.0, 1.05])\n",
    "plt.xlabel('False Positive Rate')\n",
    "plt.ylabel('True Positive Rate')\n",
    "plt.title('ROC for Predictive Maintenance Accuracy')\n",
    "plt.legend(loc=\"lower right\")\n",
    "plt.show()"
   ]
  },
  {
   "cell_type": "markdown",
   "metadata": {},
   "source": [
    "### Below we are looking at High Scores from the Random Forest Model\n",
    "### Once a threshold is established based on the ROC, scores can be used to anticipate maintenance opportunties to avoid breakdowns..."
   ]
  },
  {
   "cell_type": "code",
   "execution_count": 59,
   "metadata": {
    "scrolled": true
   },
   "outputs": [
    {
     "name": "stdout",
     "output_type": "stream",
     "text": [
      "+-----------------+-----+--------------------+-----------+\n",
      "|              VIN|label|                   r|probFailure|\n",
      "+-----------------+-----+--------------------+-----------+\n",
      "|2HMDJJFB2JJ000017|  0.0|-0.15570655417680315|        1.0|\n",
      "+-----------------+-----+--------------------+-----------+\n",
      "\n"
     ]
    }
   ],
   "source": [
    "scores = transformedRF.select('VIN','probability','label','r')\n",
    "\n",
    "from pyspark.sql.functions import udf\n",
    "from pyspark.sql.types import FloatType\n",
    "firstelement=udf(lambda v:float(v[1]),FloatType())\n",
    "probs = scores.select('VIN','label','r',\n",
    "  firstelement('probability').alias('probFailure')).orderBy('probFailure',ascending=False)\n",
    "probs.show(probs.count())"
   ]
  },
  {
   "cell_type": "markdown",
   "metadata": {},
   "source": [
    "# Write Output Message to MapR DB obd_messages tabel"
   ]
  },
  {
   "cell_type": "code",
   "execution_count": 60,
   "metadata": {},
   "outputs": [
    {
     "name": "stdout",
     "output_type": "stream",
     "text": [
      "Predicted Breakdown:  Row(vin='2HMDJJFB2JJ000017', prediction=1.0)\n",
      "+---+----------+--------------------+--------+-----------------+\n",
      "|_id|      date|             message|severity|              vin|\n",
      "+---+----------+--------------------+--------+-----------------+\n",
      "| 99|02-10-2019|Engine Status: OV...|       1|2HMDJJFB2JJ000017|\n",
      "+---+----------+--------------------+--------+-----------------+\n",
      "\n"
     ]
    }
   ],
   "source": [
    "theOne = transformedRF.select('vin','prediction').filter(\"vin = '2HMDJJFB2JJ000017'\").collect()\n",
    "\n",
    "print(\"Predicted Breakdown: \", theOne[0])    #Row(vin=u'2HMDJJFB2JJ000017', prediction=1.0)\n",
    "\n",
    "if ( theOne[0]['prediction'] == 1.0 ) :\n",
    " from pyspark.sql import Row\n",
    "\n",
    " messages = [(\"99\",\"2HMDJJFB2JJ000017\", \"02-10-2019\", \"Engine Status: OVERHEATING\", \"1\")]\n",
    " rows = sc.parallelize(messages).map(lambda p: Row(_id=p[0], vin=p[1], date=p[2], message=p[3], severity=p[4]))\n",
    " dataframe = spark.createDataFrame(rows)\n",
    " dataframe.show()\n",
    "\n",
    " spark.saveToMapRDB(dataframe, \"/obd/obd_messages\", create_table=False)"
   ]
  }
 ],
 "metadata": {
  "kernelspec": {
   "display_name": "pyspark",
   "language": "python",
   "name": "pyspark"
  },
  "language_info": {
   "codemirror_mode": {
    "name": "ipython",
    "version": 3
   },
   "file_extension": ".py",
   "mimetype": "text/x-python",
   "name": "python",
   "nbconvert_exporter": "python",
   "pygments_lexer": "ipython3",
   "version": "3.6.4"
  }
 },
 "nbformat": 4,
 "nbformat_minor": 2
}
